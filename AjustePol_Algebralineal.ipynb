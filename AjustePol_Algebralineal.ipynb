{
  "nbformat": 4,
  "nbformat_minor": 0,
  "metadata": {
    "colab": {
      "name": "AjustePol-Algebralineal.ipynb",
      "provenance": [],
      "authorship_tag": "ABX9TyN1RDiykZ5ExT757BU3skOJ",
      "include_colab_link": true
    },
    "kernelspec": {
      "name": "python3",
      "display_name": "Python 3"
    },
    "accelerator": "GPU"
  },
  "cells": [
    {
      "cell_type": "markdown",
      "metadata": {
        "id": "view-in-github",
        "colab_type": "text"
      },
      "source": [
        "<a href=\"https://colab.research.google.com/github/JessicaKarinaLopezMarroquin/Python_Crash_Course/blob/master/AjustePol_Algebralineal.ipynb\" target=\"_parent\"><img src=\"https://colab.research.google.com/assets/colab-badge.svg\" alt=\"Open In Colab\"/></a>"
      ]
    },
    {
      "cell_type": "code",
      "metadata": {
        "id": "ZgCE_qnNSKMk",
        "colab_type": "code",
        "colab": {
          "base_uri": "https://localhost:8080/",
          "height": 333
        },
        "outputId": "a25927d0-057f-4b93-978b-82dc50b2efaf"
      },
      "source": [
        "import numpy as np #importa un modulo \n",
        "import matplotlib.pyplot as plt\n",
        "import pandas as pd\n",
        "from sklearn.linear_model import LinearRegression #libreria de regresion linear\n",
        "from sklearn.preprocessing import PolynomialFeatures #libreria polinomial\n",
        "\n",
        "def polyfit2(x,y,n): #devuelve los coeficientes para un polinomio, define la función polyfit\n",
        "  def inv(A):\n",
        "      return np.linalg.inv(A) #matriz inversa de la matriz A\n",
        "  def trans(A):\n",
        "      return A.getT() #transpuesta de la matriz A\n",
        "  def prod(A,B):\n",
        "      return np.dot(A,B) #producto punto entre los vectores A Y B\n",
        "\n",
        "  xlen = len(x) #calcula la longitud del vector x\n",
        "  ylen = len(y)\n",
        "  one = np.ones((xlen,n+1),dtype=int) #matriz de unos de dimensiones(xlen,n+1)\n",
        "  \n",
        "  c1=one[:,[1]] #seleccionamos solo la columna 1 de la matriz one\n",
        "  xT=np.matrix(x) #convierte los datos a una matriz numpy\n",
        "  yT=np.matrix(y) #convierte los datos de la matriz numpy\n",
        "  \n",
        "  c2=xT.getT()  #se selecciona la columna 2 de la matriz\n",
        "  \n",
        "  c3=np.power(c2,2)#eleva al cuadrado los elementos de la matriz c2\n",
        "\n",
        "  c4=np.power(c2,3) #eleva al cubo la matriz\n",
        "  \n",
        "  A=np.hstack([c1,c2,c3,c4]) #agrupa las columnas c1, c2, c3 y c4 en la matriz A\n",
        "  ajuste = prod(prod(inv(prod(trans(A),A)),trans(A)),trans(yT)) #la funcion prod realiza los productos de las matrices que recibe como argumento\n",
        "  print(ajuste)\n",
        "\n",
        "x=[1.0,-2.0,3.0,4.0] \n",
        "y=[4.0,5.0,-1.0,1.0]\n",
        "\n",
        "\n",
        "plt.scatter(x,y, color='purple')\n",
        "polyfit2(x,y,2) #El resultado del mejor polinomio de ajuste es de grado 3 y es el polinomio y=0.32x^3 - 1.07x^2 - 2.37x +7.13\n",
        "\n",
        "\n"
      ],
      "execution_count": 18,
      "outputs": [
        {
          "output_type": "stream",
          "text": [
            "[[ 7.13333333]\n",
            " [-2.37777778]\n",
            " [-1.07777778]\n",
            " [ 0.32222222]]\n"
          ],
          "name": "stdout"
        },
        {
          "output_type": "display_data",
          "data": {
            "image/png": "[encoded data removed]",
            "text/plain": [
              "<Figure size 432x288 with 1 Axes>"
            ]
          },
          "metadata": {
            "tags": [],
            "needs_background": "light"
          }
        }
      ]
    }
  ]
}